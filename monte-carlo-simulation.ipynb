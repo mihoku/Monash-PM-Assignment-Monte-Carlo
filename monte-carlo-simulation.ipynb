{
 "cells": [
  {
   "cell_type": "markdown",
   "metadata": {},
   "source": [
    "# Monte Carlo Simulation \n",
    "## for Quantitative Risk Assessment\n",
    "\n",
    "Reza Darmawan (33462135)<br>\n",
    "Assignment 1\n",
    "ITI5057 - Project Management\n",
    "\n"
   ]
  },
  {
   "cell_type": "markdown",
   "metadata": {},
   "source": [
    "### A. Import Required Libraried"
   ]
  },
  {
   "cell_type": "code",
   "execution_count": 41,
   "metadata": {},
   "outputs": [],
   "source": [
    "import scipy.stats as st\n",
    "import pandas as pd\n",
    "import matplotlib.pyplot as plt\n",
    "import seaborn as sns"
   ]
  },
  {
   "cell_type": "markdown",
   "metadata": {},
   "source": [
    "### B. Read the dataset"
   ]
  },
  {
   "cell_type": "code",
   "execution_count": 101,
   "metadata": {},
   "outputs": [
    {
     "data": {
      "text/html": [
       "<div>\n",
       "<style scoped>\n",
       "    .dataframe tbody tr th:only-of-type {\n",
       "        vertical-align: middle;\n",
       "    }\n",
       "\n",
       "    .dataframe tbody tr th {\n",
       "        vertical-align: top;\n",
       "    }\n",
       "\n",
       "    .dataframe thead th {\n",
       "        text-align: right;\n",
       "    }\n",
       "</style>\n",
       "<table border=\"1\" class=\"dataframe\">\n",
       "  <thead>\n",
       "    <tr style=\"text-align: right;\">\n",
       "      <th></th>\n",
       "      <th>Year</th>\n",
       "      <th>Position</th>\n",
       "      <th>Typical_Salary</th>\n",
       "      <th>Lower_Bound</th>\n",
       "      <th>Upper_Bound</th>\n",
       "      <th>Quantity</th>\n",
       "      <th>Incur_Period</th>\n",
       "      <th>Adjustment_Cost</th>\n",
       "    </tr>\n",
       "  </thead>\n",
       "  <tbody>\n",
       "    <tr>\n",
       "      <th>0</th>\n",
       "      <td>0</td>\n",
       "      <td>System Analyst</td>\n",
       "      <td>700</td>\n",
       "      <td>500</td>\n",
       "      <td>800</td>\n",
       "      <td>1</td>\n",
       "      <td>40</td>\n",
       "      <td>1.115</td>\n",
       "    </tr>\n",
       "    <tr>\n",
       "      <th>1</th>\n",
       "      <td>0</td>\n",
       "      <td>Project Manager</td>\n",
       "      <td>900</td>\n",
       "      <td>800</td>\n",
       "      <td>1100</td>\n",
       "      <td>1</td>\n",
       "      <td>40</td>\n",
       "      <td>1.115</td>\n",
       "    </tr>\n",
       "    <tr>\n",
       "      <th>2</th>\n",
       "      <td>0</td>\n",
       "      <td>Full Stack Developer (.NET/Java)</td>\n",
       "      <td>900</td>\n",
       "      <td>700</td>\n",
       "      <td>1100</td>\n",
       "      <td>1</td>\n",
       "      <td>20</td>\n",
       "      <td>1.115</td>\n",
       "    </tr>\n",
       "    <tr>\n",
       "      <th>3</th>\n",
       "      <td>0</td>\n",
       "      <td>Data Engineer</td>\n",
       "      <td>800</td>\n",
       "      <td>650</td>\n",
       "      <td>1050</td>\n",
       "      <td>1</td>\n",
       "      <td>35</td>\n",
       "      <td>1.115</td>\n",
       "    </tr>\n",
       "    <tr>\n",
       "      <th>4</th>\n",
       "      <td>0</td>\n",
       "      <td>Data Scientist</td>\n",
       "      <td>1000</td>\n",
       "      <td>800</td>\n",
       "      <td>1300</td>\n",
       "      <td>1</td>\n",
       "      <td>20</td>\n",
       "      <td>1.115</td>\n",
       "    </tr>\n",
       "  </tbody>\n",
       "</table>\n",
       "</div>"
      ],
      "text/plain": [
       "   Year                          Position  Typical_Salary  Lower_Bound  \\\n",
       "0     0                    System Analyst             700          500   \n",
       "1     0                   Project Manager             900          800   \n",
       "2     0  Full Stack Developer (.NET/Java)             900          700   \n",
       "3     0                     Data Engineer             800          650   \n",
       "4     0                    Data Scientist            1000          800   \n",
       "\n",
       "   Upper_Bound  Quantity  Incur_Period  Adjustment_Cost  \n",
       "0          800         1            40            1.115  \n",
       "1         1100         1            40            1.115  \n",
       "2         1100         1            20            1.115  \n",
       "3         1050         1            35            1.115  \n",
       "4         1300         1            20            1.115  "
      ]
     },
     "execution_count": 101,
     "metadata": {},
     "output_type": "execute_result"
    }
   ],
   "source": [
    "cost_dataset = pd.read_csv('cost_dataset.csv', sep=';')\n",
    "cost_dataset.head()"
   ]
  },
  {
   "cell_type": "code",
   "execution_count": 102,
   "metadata": {},
   "outputs": [
    {
     "data": {
      "text/plain": [
       "173940.0"
      ]
     },
     "execution_count": 102,
     "metadata": {},
     "output_type": "execute_result"
    }
   ],
   "source": [
    "# Calculate current initial project cost given cost dataset and contingency reserve 20% of labor cost\n",
    "current_initial_cost=1.2*sum([cost_dataset.iloc[a]['Typical_Salary']*cost_dataset.iloc[a]['Quantity']*cost_dataset.iloc[a]['Incur_Period']*cost_dataset.iloc[a]['Adjustment_Cost'] for a in range(len(cost_dataset))])\n",
    "current_initial_cost"
   ]
  },
  {
   "cell_type": "markdown",
   "metadata": {},
   "source": [
    "### C. Monte Carlo Simulation"
   ]
  },
  {
   "cell_type": "markdown",
   "metadata": {},
   "source": [
    "In this simulation, I assume 95% confidence interval, which means that the observation is 95% likely to be in between the lower and upper range. It is also assumed that the salary under the defined range follows normal distribution. The standard deviation for the given interval from lower bound $L$ to upper bound $U$ can be calculated as:\n",
    "\n",
    "$$\\sigma=\\frac{U-L}{2 \\times Z_{\\alpha=0.95}}$$"
   ]
  },
  {
   "cell_type": "code",
   "execution_count": 116,
   "metadata": {},
   "outputs": [],
   "source": [
    "def generate_simulation(typical_cost, lower_limit, upper_limit, n_simulation=700000, confidence=.95):\n",
    "    '''\n",
    "    Generate normally distributed simulation given certain typical cost (mean) and cost range\n",
    "\n",
    "    Keyword arguments:\n",
    "     - typical_cost: the mean of the cost item\n",
    "     - lower_limit: the lowest limit on the range\n",
    "     - upper_limit: the top limit on the range\n",
    "     - n_simulation: number of simulation to be generated, by default 700K\n",
    "     - confidence: confidence level that the data is on the defined range\n",
    "\n",
    "     Return:\n",
    "     - simulated random variable\n",
    "\n",
    "    '''\n",
    "    \n",
    "    # define Z score for 95% confidence interval\n",
    "    z_confidence_interval=st.norm.ppf(1-(1-confidence)/2)\n",
    "\n",
    "    # create normal distribution object with typical cost as mean, and calculated standard deviation\n",
    "    normal_distribution = st.norm(loc=typical_cost, scale=(upper_limit-lower_limit)/(2*z_confidence_interval))\n",
    "\n",
    "    # generate random variables simulation\n",
    "    rv_simulation = normal_distribution.rvs(size=n_simulation)\n",
    "\n",
    "    # return the simulation\n",
    "    return rv_simulation \n",
    "\n",
    "def cost_overrun_likelihood(monte_carlo_simulation_dataset, accepted_cost_limit):\n",
    "\n",
    "    '''\n",
    "    \n",
    "    '''\n",
    "\n",
    "    # calculate the probability (likelihood) of cost overrun more than accepted cost limit\n",
    "    cost_overrun_probability = len(monte_carlo_simulation_dataset[monte_carlo_simulation_dataset['Cost Total']>accepted_cost_limit])/len(monte_carlo_simulation_dataset)\n",
    "\n",
    "    # print cost overrun likelihood\n",
    "    print(f'Probability of cost overrun more than the accepted cost limit of AUD{accepted_cost_limit} is {round(cost_overrun_probability*100,4)}%')\n",
    "\n",
    "    cost_overrun = monte_carlo_simulation_dataset[monte_carlo_simulation_dataset['Cost Total']>accepted_cost_limit]\n",
    "    print(f\"Range of cost overrun: {round(min(cost_overrun['Cost Total']),2)} - {round(max(cost_overrun['Cost Total']),2)}\")\n",
    "\n",
    "    return cost_overrun_probability\n",
    "\n",
    "def monte_carlo_initial_cost(dataset, cost_item_column, typical_cost_column,\n",
    "                             lower_limit_column, upper_limit_column,\n",
    "                             quantity_column, incur_period_column, \n",
    "                             adjustment_cost_column, accepted_cost_limit,\n",
    "                             simulation_label, n_simulation=700000, confidence=.95):\n",
    "    '''\n",
    "    Generate normally distributed simulation given dataset containing cost items\n",
    "\n",
    "    Keyword arguments:\n",
    "     - dataset: dataset of cost item\n",
    "     - cost_item_column: the column name that contains cost item identification\n",
    "     - typical_cost_column: the column name that contains the mean of the cost item\n",
    "     - lower_limit_column: the column name that contains the lowest limit on the range\n",
    "     - upper_limit_column: the column name that contains the top limit on the range\n",
    "     - quantity_column: the column name that contains item quantity of resource\n",
    "     - incur_period_column: the column name that contains the incur period of the cost\n",
    "     - adjustment_cost_column: the column name that contains adjustment required e.g. superannuation\n",
    "     - n_simulation: number of simulation to be generated, by default 700K\n",
    "     - confidence: confidence level that the data is on the defined range\n",
    "\n",
    "    Return:\n",
    "     - dataframe containing simulated cost items\n",
    "    '''\n",
    "\n",
    "    # initiate empty dataframe to store simulation data\n",
    "    simulation_dataframe_column = [dataset.iloc[a][cost_item_column] for a in range(len(dataset))]\n",
    "    simulation_dataframe = pd.DataFrame(columns=simulation_dataframe_column)\n",
    "\n",
    "    # iterate over dataframe and generate simulation data \n",
    "    for i in range(len(dataset)):\n",
    "        \n",
    "        # identify cost item\n",
    "        cost_item = dataset.iloc[i][cost_item_column]\n",
    "\n",
    "        # define parameter to generate simulation data\n",
    "        typical_cost = dataset.iloc[i][typical_cost_column]    # typical cost as mean\n",
    "        lower_limit = dataset.iloc[i][lower_limit_column]    # lower limit\n",
    "        upper_limit = dataset.iloc[i][upper_limit_column]    # upper limit\n",
    "\n",
    "        # generate simulation data\n",
    "        simulation_data = generate_simulation(typical_cost,lower_limit, upper_limit, n_simulation, confidence)\n",
    "\n",
    "        # define calculation attribute for cost item\n",
    "        quantity = dataset.iloc[i][quantity_column]    # quantity\n",
    "        incur_period = dataset.iloc[i][incur_period_column]    # incur period\n",
    "        cost_adjustment = dataset.iloc[i][adjustment_cost_column]    # cost adjustment e.g. for superannuation\n",
    "\n",
    "        # append simulation data to dataframe \n",
    "        # after calculating the list with corresponding quantity, incur period, and adjustment\n",
    "        simulation_dataframe[cost_item] = [i * quantity * incur_period * cost_adjustment for i in simulation_data]\n",
    "    \n",
    "    # calculate total initial cost for each simulation\n",
    "    cost_total = simulation_dataframe.sum(axis='columns')\n",
    "    simulation_dataframe['Cost Total'] = cost_total\n",
    "\n",
    "    # Visualize cost simulation distribution\n",
    "    sns.displot([i/1000 for i in simulation_dataframe[\"Cost Total\"]], \n",
    "                kde=True).set(title=f'Monte Carlo Simulation of {simulation_label} ({n_simulation//1000}K simulations)',\n",
    "                              xlabel='Total Cost (in AUD thousand)')\n",
    "    plt.axvline(accepted_cost_limit/1000, 0,100,color='red', linestyle='--')\n",
    "    plt.show()\n",
    "\n",
    "    # calculate cost overrun probability\n",
    "    cost_overrun_probability = cost_overrun_likelihood(simulation_dataframe, accepted_cost_limit)\n",
    "\n",
    "    return simulation_dataframe"
   ]
  },
  {
   "cell_type": "code",
   "execution_count": 117,
   "metadata": {},
   "outputs": [
    {
     "data": {
      "image/png": "[encoded data removed]",
      "text/plain": [
       "<Figure size 500x500 with 1 Axes>"
      ]
     },
     "metadata": {},
     "output_type": "display_data"
    },
    {
     "name": "stdout",
     "output_type": "stream",
     "text": [
      "Probability of cost overrun more than the accepted cost limit of AUD174180 is 0.003%\n",
      "Range of cost overrun: 174300.21 - 179113.63\n"
     ]
    }
   ],
   "source": [
    "monte_carlo = monte_carlo_initial_cost(cost_dataset, 'Position', 'Typical_Salary','Lower_Bound', 'Upper_Bound',\n",
    "                         'Quantity','Incur_Period','Adjustment_Cost', 174180, 'Monash ISRA Project Cost')"
   ]
  },
  {
   "cell_type": "code",
   "execution_count": null,
   "metadata": {},
   "outputs": [],
   "source": []
  }
 ],
 "metadata": {
  "kernelspec": {
   "display_name": "base",
   "language": "python",
   "name": "python3"
  },
  "language_info": {
   "codemirror_mode": {
    "name": "ipython",
    "version": 3
   },
   "file_extension": ".py",
   "mimetype": "text/x-python",
   "name": "python",
   "nbconvert_exporter": "python",
   "pygments_lexer": "ipython3",
   "version": "3.11.4"
  }
 },
 "nbformat": 4,
 "nbformat_minor": 2
}
