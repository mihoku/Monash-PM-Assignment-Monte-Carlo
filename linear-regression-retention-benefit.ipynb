{
 "cells": [
  {
   "cell_type": "markdown",
   "metadata": {},
   "source": [
    "# Linear Regression Analysis \n",
    "## for Benefit Projection\n",
    "\n",
    "Reza Darmawan (33462135)<br>\n",
    "Assignment 1\n",
    "ITI5057 - Project Management\n",
    "\n"
   ]
  },
  {
   "cell_type": "markdown",
   "metadata": {},
   "source": [
    "### A. Import Required Libraried"
   ]
  },
  {
   "cell_type": "code",
   "execution_count": 12,
   "metadata": {},
   "outputs": [],
   "source": [
    "import pandas as pd\n",
    "import matplotlib.pyplot as plt\n",
    "import seaborn as sns\n",
    "import numpy as np\n",
    "from sklearn.linear_model import LinearRegression"
   ]
  },
  {
   "cell_type": "markdown",
   "metadata": {},
   "source": [
    "### B. Read the dataset"
   ]
  },
  {
   "cell_type": "code",
   "execution_count": 35,
   "metadata": {},
   "outputs": [
    {
     "data": {
      "text/html": [
       "<div>\n",
       "<style scoped>\n",
       "    .dataframe tbody tr th:only-of-type {\n",
       "        vertical-align: middle;\n",
       "    }\n",
       "\n",
       "    .dataframe tbody tr th {\n",
       "        vertical-align: top;\n",
       "    }\n",
       "\n",
       "    .dataframe thead th {\n",
       "        text-align: right;\n",
       "    }\n",
       "</style>\n",
       "<table border=\"1\" class=\"dataframe\">\n",
       "  <thead>\n",
       "    <tr style=\"text-align: right;\">\n",
       "      <th></th>\n",
       "      <th>Revenue Component</th>\n",
       "      <th>Commonwealth Grants Scheme and Other Grant</th>\n",
       "      <th>Higher Education Loan Programs AUD</th>\n",
       "      <th>Course Fee and Charges AUD</th>\n",
       "      <th>Total Revenue</th>\n",
       "      <th>Revenue Increase</th>\n",
       "      <th>Retention Rate</th>\n",
       "    </tr>\n",
       "  </thead>\n",
       "  <tbody>\n",
       "    <tr>\n",
       "      <th>0</th>\n",
       "      <td>2023</td>\n",
       "      <td>367,879,000.00</td>\n",
       "      <td>381,082,000.00</td>\n",
       "      <td>1,158,748,000.00</td>\n",
       "      <td>1,907,709,000.00</td>\n",
       "      <td>0.0500</td>\n",
       "      <td>0.908</td>\n",
       "    </tr>\n",
       "    <tr>\n",
       "      <th>1</th>\n",
       "      <td>2022</td>\n",
       "      <td>378,352,000.00</td>\n",
       "      <td>349,592,000.00</td>\n",
       "      <td>1,088,859,000.00</td>\n",
       "      <td>1,816,803,000.00</td>\n",
       "      <td>-0.0532</td>\n",
       "      <td>0.884</td>\n",
       "    </tr>\n",
       "    <tr>\n",
       "      <th>2</th>\n",
       "      <td>2021</td>\n",
       "      <td>400,698,000.00</td>\n",
       "      <td>350,629,000.00</td>\n",
       "      <td>1,167,568,000.00</td>\n",
       "      <td>1,918,895,000.00</td>\n",
       "      <td>-0.0260</td>\n",
       "      <td>0.872</td>\n",
       "    </tr>\n",
       "    <tr>\n",
       "      <th>3</th>\n",
       "      <td>2020</td>\n",
       "      <td>363,695,000.00</td>\n",
       "      <td>339,770,000.00</td>\n",
       "      <td>1,266,557,000.00</td>\n",
       "      <td>1,970,022,000.00</td>\n",
       "      <td>0.0447</td>\n",
       "      <td>0.908</td>\n",
       "    </tr>\n",
       "  </tbody>\n",
       "</table>\n",
       "</div>"
      ],
      "text/plain": [
       "   Revenue Component Commonwealth Grants Scheme and Other Grant  \\\n",
       "0               2023                            367,879,000.00    \n",
       "1               2022                            378,352,000.00    \n",
       "2               2021                             400,698,000.00   \n",
       "3               2020                            363,695,000.00    \n",
       "\n",
       "  Higher Education Loan Programs AUD Course Fee and Charges AUD  \\\n",
       "0                    381,082,000.00           1,158,748,000.00    \n",
       "1                    349,592,000.00           1,088,859,000.00    \n",
       "2                    350,629,000.00           1,167,568,000.00    \n",
       "3                    339,770,000.00           1,266,557,000.00    \n",
       "\n",
       "        Total Revenue  Revenue Increase  Retention Rate  \n",
       "0   1,907,709,000.00             0.0500           0.908  \n",
       "1   1,816,803,000.00            -0.0532           0.884  \n",
       "2   1,918,895,000.00            -0.0260           0.872  \n",
       "3   1,970,022,000.00             0.0447           0.908  "
      ]
     },
     "execution_count": 35,
     "metadata": {},
     "output_type": "execute_result"
    }
   ],
   "source": [
    "retention_revenue_dataset = pd.read_csv('retention-revenue-regression.csv', sep=';')\n",
    "retention_revenue_dataset.head()"
   ]
  },
  {
   "cell_type": "markdown",
   "metadata": {},
   "source": [
    "### C. Fit Regression Model"
   ]
  },
  {
   "cell_type": "code",
   "execution_count": 36,
   "metadata": {},
   "outputs": [
    {
     "name": "stdout",
     "output_type": "stream",
     "text": [
      "coefficient of determination: 0.77436224715914\n",
      "intercept: -2.2426814814814797\n",
      "slope: [2.51574074]\n"
     ]
    }
   ],
   "source": [
    "predictor = np.array(retention_revenue_dataset['Retention Rate']).reshape((-1,1))\n",
    "target = retention_revenue_dataset['Revenue Increase']\n",
    "regression_model = LinearRegression()\n",
    "\n",
    "regression_model.fit(predictor,target)\n",
    "\n",
    "r_sq = regression_model.score(predictor, target)\n",
    "print(f\"coefficient of determination: {r_sq}\")\n",
    "print(f\"intercept: {regression_model.intercept_}\")\n",
    "print(f\"slope: {regression_model.coef_}\")"
   ]
  },
  {
   "cell_type": "markdown",
   "metadata": {},
   "source": [
    "Regression equation:\n",
    "$$y=-2.2427+2.5157x$$"
   ]
  },
  {
   "cell_type": "code",
   "execution_count": 37,
   "metadata": {},
   "outputs": [
    {
     "data": {
      "text/html": [
       "<div>\n",
       "<style scoped>\n",
       "    .dataframe tbody tr th:only-of-type {\n",
       "        vertical-align: middle;\n",
       "    }\n",
       "\n",
       "    .dataframe tbody tr th {\n",
       "        vertical-align: top;\n",
       "    }\n",
       "\n",
       "    .dataframe thead th {\n",
       "        text-align: right;\n",
       "    }\n",
       "</style>\n",
       "<table border=\"1\" class=\"dataframe\">\n",
       "  <thead>\n",
       "    <tr style=\"text-align: right;\">\n",
       "      <th></th>\n",
       "      <th>retention</th>\n",
       "      <th>revenue_increase</th>\n",
       "    </tr>\n",
       "  </thead>\n",
       "  <tbody>\n",
       "    <tr>\n",
       "      <th>0</th>\n",
       "      <td>0.908</td>\n",
       "      <td>0.041611</td>\n",
       "    </tr>\n",
       "    <tr>\n",
       "      <th>1</th>\n",
       "      <td>0.910</td>\n",
       "      <td>0.046643</td>\n",
       "    </tr>\n",
       "    <tr>\n",
       "      <th>2</th>\n",
       "      <td>0.919</td>\n",
       "      <td>0.069284</td>\n",
       "    </tr>\n",
       "  </tbody>\n",
       "</table>\n",
       "</div>"
      ],
      "text/plain": [
       "   retention  revenue_increase\n",
       "0      0.908          0.041611\n",
       "1      0.910          0.046643\n",
       "2      0.919          0.069284"
      ]
     },
     "execution_count": 37,
     "metadata": {},
     "output_type": "execute_result"
    }
   ],
   "source": [
    "retention_impact_scenario = [0.908,0.91, 0.919]\n",
    "revenue_impact = regression_model.predict(np.array(retention_impact_scenario).reshape((-1,1)))\n",
    "pd.DataFrame({'retention':retention_impact_scenario, 'revenue_increase':revenue_impact})"
   ]
  },
  {
   "cell_type": "markdown",
   "metadata": {},
   "source": []
  }
 ],
 "metadata": {
  "kernelspec": {
   "display_name": "base",
   "language": "python",
   "name": "python3"
  },
  "language_info": {
   "codemirror_mode": {
    "name": "ipython",
    "version": 3
   },
   "file_extension": ".py",
   "mimetype": "text/x-python",
   "name": "python",
   "nbconvert_exporter": "python",
   "pygments_lexer": "ipython3",
   "version": "3.11.4"
  }
 },
 "nbformat": 4,
 "nbformat_minor": 2
}
